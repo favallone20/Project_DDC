{
 "cells": [
  {
   "cell_type": "markdown",
   "metadata": {},
   "source": [
    "In order to suggest a possible solution for the last WP, we have considered a solution using do-mpc tool. As well known, we need of a mathematical model so, for this reason, with the conditional pdf $f(x_k|x_{k-1},u_{k})$ we can build a dataset (considering each tuple $(u_{k}, x_{k-1})$) with the intention of using it for doing a regression procedure.\n",
    "\n",
    "After that, we could use this model in our MPC model."
   ]
  },
  {
   "cell_type": "code",
   "execution_count": 15,
   "metadata": {},
   "outputs": [],
   "source": [
    "from gekko import GEKKO\n",
    "import numpy as np\n",
    "from matplotlib import pyplot as plt"
   ]
  },
  {
   "cell_type": "code",
   "execution_count": 16,
   "metadata": {},
   "outputs": [],
   "source": [
    "#Parameters for f(x_k|x_{k-1},u_k)\n",
    "a_c = 0.982\n",
    "b_c = 0.2591\n",
    "sigma_c = 13.059\n",
    "\n",
    "#Parameters for g(x_k|x_{k-1},u_k)\n",
    "a_e = 0.9811\n",
    "b_e = 0.2723\n",
    "sigma_e = 8.811\n",
    "\n",
    "#Bounds for u (velocity) and x (distance)\n",
    "v_min = 15\n",
    "v_max = 85\n",
    "d_min = 0\n",
    "d_max = 1500\n",
    "\n",
    "#Amount of bins (resolution) for u and x\n",
    "v_discr = 100\n",
    "d_discr = 100"
   ]
  },
  {
   "cell_type": "code",
   "execution_count": 17,
   "metadata": {},
   "outputs": [],
   "source": [
    "d_step = (d_max-d_min)/d_discr # Discretization step for x\n",
    "v_step = (v_max-v_min)/v_discr # Discretization step for u\n",
    "\n",
    "x_axis = [d_min + (i+0.5)*d_step for i in range(d_discr)]\n",
    "u_axis = [v_min + (j+0.5)*v_step for j in range(v_discr)]"
   ]
  },
  {
   "cell_type": "code",
   "execution_count": 18,
   "metadata": {},
   "outputs": [],
   "source": [
    "def getPlant(a, b, sigma):\n",
    "    # Function for getting the plant (f_x or g_x) from the parameters.\n",
    "    # The arguments are the linear parameters for the mean and the std.\n",
    "    # The Gaussians are simply coded as [mean, std] to simplify calculations\n",
    "    res = np.zeros((d_discr,v_discr,2)) # Initializing the empty array\n",
    "    for i in range(d_discr): # Iterating over the state space for x_{k-1}\n",
    "        x_km1 = d_min + (i+0.5)*d_step # Calculating x_{k-1}\n",
    "        for j in range(v_discr): # Iterating over the action space for u_k\n",
    "            u_k = v_min + (j+0.5)*v_step  # Calculating u_k\n",
    "            mu = a*x_km1 + b*u_k # Calculating the average of the Gaussian\n",
    "            res[i][j] = [mu, sigma] # Adding the Gaussian in [mean, std] form to the array\n",
    "    return(res)"
   ]
  },
  {
   "cell_type": "code",
   "execution_count": 19,
   "metadata": {},
   "outputs": [],
   "source": [
    "def build_dataset():\n",
    "    xkm1L = []\n",
    "    xkL = []\n",
    "    ukL = []\n",
    "    \n",
    "    f_x = getPlant(a_c, b_c, sigma_c) \n",
    "    for xkm1 in range(d_discr): #for each previous state\n",
    "        for uk in range(v_discr): #for each control input\n",
    "            \n",
    "            plant = f_x[xkm1][uk] #gaussian expression given xkm1 and uk\n",
    "            \n",
    "            # True values for uk, xkm1 and x\n",
    "            trueX = np.random.normal(plant[0], plant[1])\n",
    "            trueXkm1 = xkm1*d_step + d_min\n",
    "            trueU = uk*v_step + v_min\n",
    "            \n",
    "            x = int(trueX-d_min)//d_step\n",
    "            x = min(x, d_discr - 1)\n",
    "            x = max(x, 0)\n",
    "            \n",
    "            if x > xkm1: #if we can reach a next (real) state from the previous state \n",
    "                ukL.append(trueU)\n",
    "                xkm1L.append(trueXkm1)\n",
    "                xkL.append(trueX)\n",
    "\n",
    "    return xkm1L, xkL, ukL\n"
   ]
  },
  {
   "cell_type": "code",
   "execution_count": 20,
   "metadata": {},
   "outputs": [
    {
     "name": "stdout",
     "output_type": "stream",
     "text": [
      "Optimized, a = 0.99931204848\n",
      "Optimized, b = 0.39271844869\n"
     ]
    }
   ],
   "source": [
    "# measurements\n",
    "xkm1L, xkL, ukL = build_dataset()\n",
    "\n",
    "xkm1L = np.array(xkm1L) #array of the previous states\n",
    "ukL = np.array(ukL) #array of the control inputs \n",
    "xkL = np.array(xkL) #array of the next states\n",
    "\n",
    "\n",
    "# GEKKO model\n",
    "m = GEKKO()\n",
    "\n",
    "# parameters\n",
    "xkm1 = m.Param(value=xkm1L)\n",
    "uk = m.Param(value=ukL)\n",
    "\n",
    "# fixed variables\n",
    "a = m.FV()\n",
    "a.STATUS=1\n",
    "\n",
    "b = m.FV()\n",
    "b.STATUS=1\n",
    "\n",
    "# controlled variable\n",
    "xk = m.CV(value=xkL)\n",
    "xk.FSTATUS=1\n",
    "\n",
    "# regression equation\n",
    "m.Equation(xk== a*xkm1 + b*uk)\n",
    "\n",
    "# regression mode\n",
    "m.options.IMODE = 2\n",
    "\n",
    "# optimize\n",
    "m.solve(disp=False)\n",
    "\n",
    "# print parameters\n",
    "print('Optimized, a = ' + str(a.value[0]))\n",
    "print('Optimized, b = '+ str(b.value[0]))\n"
   ]
  },
  {
   "cell_type": "markdown",
   "metadata": {},
   "source": [
    "After we have obtained the parameters $a$ and $b$ we can use them in MPC_do_mpc.ipynb in order to define an approximated mathematical model of the system.\n",
    "\n",
    "The next plot represents if the function obtained from the regression is a good approximation."
   ]
  },
  {
   "cell_type": "code",
   "execution_count": 23,
   "metadata": {},
   "outputs": [
    {
     "data": {
      "text/plain": [
       "[<matplotlib.lines.Line2D at 0x7ff97df110a0>]"
      ]
     },
     "execution_count": 23,
     "metadata": {},
     "output_type": "execute_result"
    },
    {
     "data": {
      "image/png": "[encoded data removed]",
      "text/plain": [
       "<Figure size 432x288 with 1 Axes>"
      ]
     },
     "metadata": {
      "needs_background": "light"
     },
     "output_type": "display_data"
    }
   ],
   "source": [
    "plt.ylabel(\"Position\")\n",
    "plt.plot(xkL,'bo')\n",
    "plt.plot(xk.value,'r-')"
   ]
  }
 ],
 "metadata": {
  "interpreter": {
   "hash": "31f2aee4e71d21fbe5cf8b01ff0e069b9275f58929596ceb00d14d90e3e16cd6"
  },
  "kernelspec": {
   "display_name": "Python 3.8.10 64-bit",
   "language": "python",
   "name": "python3"
  },
  "language_info": {
   "codemirror_mode": {
    "name": "ipython",
    "version": 3
   },
   "file_extension": ".py",
   "mimetype": "text/x-python",
   "name": "python",
   "nbconvert_exporter": "python",
   "pygments_lexer": "ipython3",
   "version": "3.8.10"
  },
  "orig_nbformat": 4
 },
 "nbformat": 4,
 "nbformat_minor": 2
}
